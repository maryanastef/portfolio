{
  "cells": [
    {
      "cell_type": "markdown",
      "id": "7e0e21ae",
      "metadata": {
        "id": "7e0e21ae"
      },
      "source": [
        "## Problem 1 Six Sigma\n",
        "\n",
        "1. Please write R code to verify the probabilities within σ, 2σ and 3σ as shown in the above graph\n",
        "2. Write R code to find out, within how many σ, the probability is 99.99966%. Is it really 6σ?"
      ]
    },
    {
      "cell_type": "code",
      "execution_count": null,
      "id": "70a4a019",
      "metadata": {
        "id": "70a4a019",
        "outputId": "3a94ee8e-5969-4437-d25b-963298cef042"
      },
      "outputs": [
        {
          "name": "stdout",
          "output_type": "stream",
          "text": [
            "Probability within 1 standard deviation from mean:"
          ]
        },
        {
          "data": {
            "text/html": [
              "0.682689492137086"
            ],
            "text/latex": [
              "0.682689492137086"
            ],
            "text/markdown": [
              "0.682689492137086"
            ],
            "text/plain": [
              "[1] 0.6826895"
            ]
          },
          "metadata": {},
          "output_type": "display_data"
        },
        {
          "name": "stdout",
          "output_type": "stream",
          "text": [
            "This shows that 1 standard deviation from the mean is equal to 68% as shown in the graph"
          ]
        }
      ],
      "source": [
        "cat(\"Probability within 1 standard deviation from mean:\")\n",
        "pnorm(1)-pnorm(-1)\n",
        "cat(\"This shows that 1 standard deviation from the mean is equal to 68% as shown in the graph\")\n"
      ]
    },
    {
      "cell_type": "code",
      "execution_count": null,
      "id": "f4d1647a",
      "metadata": {
        "id": "f4d1647a",
        "outputId": "3be5a623-51b6-4c6b-d8b6-ee5fcfb2fa23"
      },
      "outputs": [
        {
          "name": "stdout",
          "output_type": "stream",
          "text": [
            "Probability within 2 standard deviations from mean:"
          ]
        },
        {
          "data": {
            "text/html": [
              "0.954499736103642"
            ],
            "text/latex": [
              "0.954499736103642"
            ],
            "text/markdown": [
              "0.954499736103642"
            ],
            "text/plain": [
              "[1] 0.9544997"
            ]
          },
          "metadata": {},
          "output_type": "display_data"
        },
        {
          "name": "stdout",
          "output_type": "stream",
          "text": [
            "This shows that 2 standard deviation from the mean is equal to 95% as shown in the graph"
          ]
        }
      ],
      "source": [
        "cat(\"Probability within 2 standard deviations from mean:\")\n",
        "pnorm(2)-pnorm(-2)\n",
        "cat(\"This shows that 2 standard deviation from the mean is equal to 95% as shown in the graph\")\n"
      ]
    },
    {
      "cell_type": "code",
      "execution_count": null,
      "id": "bf927ccb",
      "metadata": {
        "id": "bf927ccb",
        "outputId": "768d43b5-bd81-4524-e2aa-8c3d4f3fbe20"
      },
      "outputs": [
        {
          "name": "stdout",
          "output_type": "stream",
          "text": [
            "Probability within 3 standard deviations from mean:"
          ]
        },
        {
          "data": {
            "text/html": [
              "0.99730020393674"
            ],
            "text/latex": [
              "0.99730020393674"
            ],
            "text/markdown": [
              "0.99730020393674"
            ],
            "text/plain": [
              "[1] 0.9973002"
            ]
          },
          "metadata": {},
          "output_type": "display_data"
        },
        {
          "name": "stdout",
          "output_type": "stream",
          "text": [
            "This shows that 3 standard deviation from the mean is equal to 99.7% as shown in the graph"
          ]
        }
      ],
      "source": [
        "cat(\"Probability within 3 standard deviations from mean:\")\n",
        "pnorm(3)-pnorm(-3)\n",
        "cat(\"This shows that 3 standard deviation from the mean is equal to 99.7% as shown in the graph\")\n"
      ]
    },
    {
      "cell_type": "code",
      "execution_count": null,
      "id": "d6794ea7",
      "metadata": {
        "id": "d6794ea7",
        "outputId": "53727413-fdd7-420b-c8bb-77d145a3c785"
      },
      "outputs": [
        {
          "data": {
            "text/html": [
              "4.49985447002584"
            ],
            "text/latex": [
              "4.49985447002584"
            ],
            "text/markdown": [
              "4.49985447002584"
            ],
            "text/plain": [
              "[1] 4.499854"
            ]
          },
          "metadata": {},
          "output_type": "display_data"
        },
        {
          "name": "stdout",
          "output_type": "stream",
          "text": [
            "That is False, it is not equal to 6σ. The probability of 99.99966% corresponds to 4.5σ"
          ]
        }
      ],
      "source": [
        "# Question 2\n",
        "#how many σ, the probability is 99.99966%???\n",
        "\n",
        "qnorm(0.9999966)\n",
        "cat(\"That is False, it is not equal to 6σ. The probability of 99.99966% corresponds to 4.5σ\")"
      ]
    },
    {
      "cell_type": "markdown",
      "id": "e825be8c",
      "metadata": {
        "id": "e825be8c"
      },
      "source": [
        "## Problem 2 Job Search\n",
        "\n",
        "You are spamming resumes to apply jobs. Each resume you send out has 1% chance of getting a\n",
        "job offer. You have sent 100 resumes. What's your chance to get at least one job offer?\n",
        "\n",
        "1. Please solve the problem by math. Use R mathematical expression to get the result.\n",
        "2. Analytic solution. Use R’s probability functions to solve the problem.\n",
        "3. Answer by simulation. Use sampling function to simulate the process and estimate the answer.\n",
        "4. How many resumes in total do you have to spam so that you will have 90% chance to get at\n",
        "least one job offer?"
      ]
    },
    {
      "cell_type": "markdown",
      "id": "ea520c57",
      "metadata": {
        "id": "ea520c57"
      },
      "source": [
        "1. Using math:\n",
        "\n",
        "p(getting job offer)=1%=0.01\n",
        "<br>\n",
        "p(no job offer)=1-0.01=0.99\n",
        "\n",
        "n=100\n",
        "\n",
        "P(At least 1 job offer)=P(X>=1)=1-0.01=0.99^100\n",
        "<br>\n",
        "P(zero job offer)=0.366\n",
        "<br>\n",
        "P(at least 1 job offer)=1-0.366\n",
        "<br>\n",
        "P(at least 1 job offer)=0.634\n",
        "<br>\n"
      ]
    },
    {
      "cell_type": "code",
      "execution_count": null,
      "id": "99d8fc10",
      "metadata": {
        "id": "99d8fc10",
        "outputId": "5aa94935-ee98-4c73-ef63-bb5fb24baa64"
      },
      "outputs": [
        {
          "data": {
            "text/html": [
              "0.67"
            ],
            "text/latex": [
              "0.67"
            ],
            "text/markdown": [
              "0.67"
            ],
            "text/plain": [
              "[1] 0.67"
            ]
          },
          "metadata": {},
          "output_type": "display_data"
        }
      ],
      "source": [
        "#2-Probability\n",
        "#n=100\n",
        "#p=0.01\n",
        "#q=1-0.01=0.99\n",
        "\n",
        "#CDF\n",
        "1-punif(q=0.99,min=0,max=3)"
      ]
    },
    {
      "cell_type": "code",
      "execution_count": null,
      "id": "3e246e5d",
      "metadata": {
        "id": "3e246e5d",
        "outputId": "27e62430-2604-408f-e1e4-b325680ed4e8"
      },
      "outputs": [
        {
          "data": {
            "text/html": [
              "<ol class=list-inline>\n",
              "\t<li>0</li>\n",
              "\t<li>0</li>\n",
              "\t<li>0</li>\n",
              "\t<li>0</li>\n",
              "\t<li>0</li>\n",
              "\t<li>0</li>\n",
              "\t<li>0</li>\n",
              "\t<li>0</li>\n",
              "\t<li>0</li>\n",
              "\t<li>0</li>\n",
              "\t<li>0</li>\n",
              "\t<li>0</li>\n",
              "\t<li>0</li>\n",
              "\t<li>0</li>\n",
              "\t<li>0</li>\n",
              "\t<li>0</li>\n",
              "\t<li>0</li>\n",
              "\t<li>0</li>\n",
              "\t<li>0</li>\n",
              "\t<li>0</li>\n",
              "\t<li>0</li>\n",
              "\t<li>0</li>\n",
              "\t<li>0</li>\n",
              "\t<li>0</li>\n",
              "\t<li>0</li>\n",
              "\t<li>0</li>\n",
              "\t<li>0</li>\n",
              "\t<li>0</li>\n",
              "\t<li>0</li>\n",
              "\t<li>0</li>\n",
              "\t<li>0</li>\n",
              "\t<li>0</li>\n",
              "\t<li>0</li>\n",
              "\t<li>0</li>\n",
              "\t<li>0</li>\n",
              "\t<li>0</li>\n",
              "\t<li>0</li>\n",
              "\t<li>0</li>\n",
              "\t<li>0</li>\n",
              "\t<li>0</li>\n",
              "\t<li>0</li>\n",
              "\t<li>0</li>\n",
              "\t<li>0</li>\n",
              "\t<li>0</li>\n",
              "\t<li>0</li>\n",
              "\t<li>0</li>\n",
              "\t<li>0</li>\n",
              "\t<li>0</li>\n",
              "\t<li>0</li>\n",
              "\t<li>0</li>\n",
              "\t<li>0</li>\n",
              "\t<li>0</li>\n",
              "\t<li>0</li>\n",
              "\t<li>0</li>\n",
              "\t<li>0</li>\n",
              "\t<li>0</li>\n",
              "\t<li>0</li>\n",
              "\t<li>0</li>\n",
              "\t<li>0</li>\n",
              "\t<li>0</li>\n",
              "\t<li>0</li>\n",
              "\t<li>0</li>\n",
              "\t<li>0</li>\n",
              "\t<li>0</li>\n",
              "\t<li>0</li>\n",
              "\t<li>0</li>\n",
              "\t<li>0</li>\n",
              "\t<li>0</li>\n",
              "\t<li>0</li>\n",
              "\t<li>0</li>\n",
              "\t<li>0</li>\n",
              "\t<li>0</li>\n",
              "\t<li>0</li>\n",
              "\t<li>0</li>\n",
              "\t<li>0</li>\n",
              "\t<li>0</li>\n",
              "\t<li>0</li>\n",
              "\t<li>0</li>\n",
              "\t<li>0</li>\n",
              "\t<li>0</li>\n",
              "\t<li>0</li>\n",
              "\t<li>0</li>\n",
              "\t<li>0</li>\n",
              "\t<li>0</li>\n",
              "\t<li>0</li>\n",
              "\t<li>0</li>\n",
              "\t<li>0</li>\n",
              "\t<li>0</li>\n",
              "\t<li>0</li>\n",
              "\t<li>0</li>\n",
              "\t<li>0</li>\n",
              "\t<li>0</li>\n",
              "\t<li>0</li>\n",
              "\t<li>0</li>\n",
              "\t<li>0</li>\n",
              "\t<li>0</li>\n",
              "\t<li>0</li>\n",
              "\t<li>0</li>\n",
              "\t<li>0</li>\n",
              "\t<li>0</li>\n",
              "</ol>\n"
            ],
            "text/latex": [
              "\\begin{enumerate*}\n",
              "\\item 0\n",
              "\\item 0\n",
              "\\item 0\n",
              "\\item 0\n",
              "\\item 0\n",
              "\\item 0\n",
              "\\item 0\n",
              "\\item 0\n",
              "\\item 0\n",
              "\\item 0\n",
              "\\item 0\n",
              "\\item 0\n",
              "\\item 0\n",
              "\\item 0\n",
              "\\item 0\n",
              "\\item 0\n",
              "\\item 0\n",
              "\\item 0\n",
              "\\item 0\n",
              "\\item 0\n",
              "\\item 0\n",
              "\\item 0\n",
              "\\item 0\n",
              "\\item 0\n",
              "\\item 0\n",
              "\\item 0\n",
              "\\item 0\n",
              "\\item 0\n",
              "\\item 0\n",
              "\\item 0\n",
              "\\item 0\n",
              "\\item 0\n",
              "\\item 0\n",
              "\\item 0\n",
              "\\item 0\n",
              "\\item 0\n",
              "\\item 0\n",
              "\\item 0\n",
              "\\item 0\n",
              "\\item 0\n",
              "\\item 0\n",
              "\\item 0\n",
              "\\item 0\n",
              "\\item 0\n",
              "\\item 0\n",
              "\\item 0\n",
              "\\item 0\n",
              "\\item 0\n",
              "\\item 0\n",
              "\\item 0\n",
              "\\item 0\n",
              "\\item 0\n",
              "\\item 0\n",
              "\\item 0\n",
              "\\item 0\n",
              "\\item 0\n",
              "\\item 0\n",
              "\\item 0\n",
              "\\item 0\n",
              "\\item 0\n",
              "\\item 0\n",
              "\\item 0\n",
              "\\item 0\n",
              "\\item 0\n",
              "\\item 0\n",
              "\\item 0\n",
              "\\item 0\n",
              "\\item 0\n",
              "\\item 0\n",
              "\\item 0\n",
              "\\item 0\n",
              "\\item 0\n",
              "\\item 0\n",
              "\\item 0\n",
              "\\item 0\n",
              "\\item 0\n",
              "\\item 0\n",
              "\\item 0\n",
              "\\item 0\n",
              "\\item 0\n",
              "\\item 0\n",
              "\\item 0\n",
              "\\item 0\n",
              "\\item 0\n",
              "\\item 0\n",
              "\\item 0\n",
              "\\item 0\n",
              "\\item 0\n",
              "\\item 0\n",
              "\\item 0\n",
              "\\item 0\n",
              "\\item 0\n",
              "\\item 0\n",
              "\\item 0\n",
              "\\item 0\n",
              "\\item 0\n",
              "\\item 0\n",
              "\\item 0\n",
              "\\item 0\n",
              "\\item 0\n",
              "\\end{enumerate*}\n"
            ],
            "text/markdown": [
              "1. 0\n",
              "2. 0\n",
              "3. 0\n",
              "4. 0\n",
              "5. 0\n",
              "6. 0\n",
              "7. 0\n",
              "8. 0\n",
              "9. 0\n",
              "10. 0\n",
              "11. 0\n",
              "12. 0\n",
              "13. 0\n",
              "14. 0\n",
              "15. 0\n",
              "16. 0\n",
              "17. 0\n",
              "18. 0\n",
              "19. 0\n",
              "20. 0\n",
              "21. 0\n",
              "22. 0\n",
              "23. 0\n",
              "24. 0\n",
              "25. 0\n",
              "26. 0\n",
              "27. 0\n",
              "28. 0\n",
              "29. 0\n",
              "30. 0\n",
              "31. 0\n",
              "32. 0\n",
              "33. 0\n",
              "34. 0\n",
              "35. 0\n",
              "36. 0\n",
              "37. 0\n",
              "38. 0\n",
              "39. 0\n",
              "40. 0\n",
              "41. 0\n",
              "42. 0\n",
              "43. 0\n",
              "44. 0\n",
              "45. 0\n",
              "46. 0\n",
              "47. 0\n",
              "48. 0\n",
              "49. 0\n",
              "50. 0\n",
              "51. 0\n",
              "52. 0\n",
              "53. 0\n",
              "54. 0\n",
              "55. 0\n",
              "56. 0\n",
              "57. 0\n",
              "58. 0\n",
              "59. 0\n",
              "60. 0\n",
              "61. 0\n",
              "62. 0\n",
              "63. 0\n",
              "64. 0\n",
              "65. 0\n",
              "66. 0\n",
              "67. 0\n",
              "68. 0\n",
              "69. 0\n",
              "70. 0\n",
              "71. 0\n",
              "72. 0\n",
              "73. 0\n",
              "74. 0\n",
              "75. 0\n",
              "76. 0\n",
              "77. 0\n",
              "78. 0\n",
              "79. 0\n",
              "80. 0\n",
              "81. 0\n",
              "82. 0\n",
              "83. 0\n",
              "84. 0\n",
              "85. 0\n",
              "86. 0\n",
              "87. 0\n",
              "88. 0\n",
              "89. 0\n",
              "90. 0\n",
              "91. 0\n",
              "92. 0\n",
              "93. 0\n",
              "94. 0\n",
              "95. 0\n",
              "96. 0\n",
              "97. 0\n",
              "98. 0\n",
              "99. 0\n",
              "100. 0\n",
              "\n",
              "\n"
            ],
            "text/plain": [
              "  [1] 0 0 0 0 0 0 0 0 0 0 0 0 0 0 0 0 0 0 0 0 0 0 0 0 0 0 0 0 0 0 0 0 0 0 0 0 0\n",
              " [38] 0 0 0 0 0 0 0 0 0 0 0 0 0 0 0 0 0 0 0 0 0 0 0 0 0 0 0 0 0 0 0 0 0 0 0 0 0\n",
              " [75] 0 0 0 0 0 0 0 0 0 0 0 0 0 0 0 0 0 0 0 0 0 0 0 0 0 0"
            ]
          },
          "metadata": {},
          "output_type": "display_data"
        },
        {
          "name": "stdout",
          "output_type": "stream",
          "text": [
            "Sampling Function shows there is 1 possibility of getting a job offer"
          ]
        }
      ],
      "source": [
        "#3- Sampling function\n",
        "n = 100; p = 1/100;\n",
        "sample(0:1, size=n, replace=TRUE, prob=c(1-p, p))\n",
        "\n",
        "cat(\"Sampling Function shows there is 1 possibility of getting a job offer\")"
      ]
    },
    {
      "cell_type": "markdown",
      "id": "536ff158",
      "metadata": {
        "id": "536ff158"
      },
      "source": [
        "#4 - 90% chance to get at least 1 job offer\n",
        "<br>\n",
        "n= number of resumes we sent in\n",
        "<br>\n",
        "P(X>=1)=0.9\n",
        "<br>\n",
        "P(X>=1)=1-P(X=0)\n",
        "<br>\n",
        "0.9=1-P(X=0)\n",
        "<br>\n",
        "P(X=0)=1-0.9\n",
        "<br>\n",
        "P(X=0)=0.1\n",
        "<br>\n",
        "\n",
        "P(X=0)=P(no job offer)^n\n",
        "<br>\n",
        "P(X=0)=0.99^n<0.1\n",
        "<br>\n",
        "n=230\n",
        "<br>\n",
        "Answer: Number of resumes sent in is 230"
      ]
    },
    {
      "cell_type": "markdown",
      "id": "c8cbd904",
      "metadata": {
        "id": "c8cbd904"
      },
      "source": [
        "## Problem 3, President Election Polls\n",
        "\n",
        "Half of the population supports the president (i.e., p=0.5). For a random sample of size 1000, what\n",
        "is the probability of having ≥600 in support of the president?\n",
        "\n",
        "1. Use binomial distribution\n",
        "2. Use normal distribution as approximation."
      ]
    },
    {
      "cell_type": "code",
      "execution_count": null,
      "id": "b057cff7",
      "metadata": {
        "id": "b057cff7",
        "outputId": "41c4c03a-b5d0-4a39-e560-e4cba362c75d"
      },
      "outputs": [
        {
          "name": "stdout",
          "output_type": "stream",
          "text": [
            "Binomial Distribution:"
          ]
        },
        {
          "data": {
            "text/html": [
              "0"
            ],
            "text/latex": [
              "0"
            ],
            "text/markdown": [
              "0"
            ],
            "text/plain": [
              "[1] 0"
            ]
          },
          "metadata": {},
          "output_type": "display_data"
        },
        {
          "name": "stdout",
          "output_type": "stream",
          "text": [
            "Normal Distribution:"
          ]
        },
        {
          "data": {
            "text/html": [
              "0"
            ],
            "text/latex": [
              "0"
            ],
            "text/markdown": [
              "0"
            ],
            "text/plain": [
              "[1] 0"
            ]
          },
          "metadata": {},
          "output_type": "display_data"
        }
      ],
      "source": [
        "cat(\"Binomial Distribution:\")\n",
        "#p=0.5\n",
        "#n=1000\n",
        "#Find P(X>=600)\n",
        "dbinom(1000,600,0.5)\n",
        "\n",
        "cat(\"Normal Distribution:\")\n",
        "#X=N(u=np, o^2=npq)\n",
        "#u=n*p=1000*0.5= 500\n",
        "#o=sqrt(1000*0.5*0.5)= 15.8\n",
        "#X=N(500,15.8)\n",
        "\n",
        "#P(X>=600)=\n",
        "1-pnorm(599, mean=500,sd=sqrt(15.8))"
      ]
    },
    {
      "cell_type": "code",
      "execution_count": null,
      "id": "58e366b9",
      "metadata": {
        "id": "58e366b9"
      },
      "outputs": [],
      "source": []
    },
    {
      "cell_type": "code",
      "execution_count": null,
      "id": "ee5d6a56",
      "metadata": {
        "id": "ee5d6a56"
      },
      "outputs": [],
      "source": []
    }
  ],
  "metadata": {
    "kernelspec": {
      "display_name": "R",
      "language": "R",
      "name": "ir"
    },
    "language_info": {
      "codemirror_mode": "r",
      "file_extension": ".r",
      "mimetype": "text/x-r-source",
      "name": "R",
      "pygments_lexer": "r",
      "version": "3.6.1"
    },
    "colab": {
      "provenance": []
    }
  },
  "nbformat": 4,
  "nbformat_minor": 5
}