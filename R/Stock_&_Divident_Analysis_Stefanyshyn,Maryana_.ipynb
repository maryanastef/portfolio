{
  "cells": [
    {
      "cell_type": "markdown",
      "source": [
        "\n",
        "# **Data Preparation & Stock Analysis**\n",
        "\n",
        "Use the 6 stocks ['IBM', 'MSFT', 'GOOG', 'AAPL', 'AMZN', 'FB'] historical data of 2018 from Yahoo.\n",
        "\n",
        "For example, to download IBM data, use the following link to go to yahoo finance page. Find the \"Download Data\" link to download the csv file to you local disk.https://finance.yahoo.com/quote/IBM/history? period1=1514782800&period2=1546232400&interval=1d&filter=history&frequency=1d\n",
        "\n",
        "1. Replace \"IBM\" with other stock symbol in the above URL, you will be able to download data for other stocks.\n",
        "\n",
        "2. Load the data to dataframes. You will have 6 dataframes.\n",
        "\n",
        "3. Compute the dividends. There are two columns in each csv file, \"Close\" and \"Adj Close\". If we compute the ratio of previous day's \"Close\" price and today's \"Close\" price, then compare with the ratio of previous day's \"Adj Close\" price and today's \"Adj Close\" price, on most of days, the two ratios should be equal. On dividend day, the two ratios will have a difference. The difference times today's \"Close\" price, you will get the dividend. As the example below, you should be able to use the method to reproduce the $1.5 dividend on 2/8/2018.\n",
        "\n",
        "4. You result will have 6 dataframes, each of them have two columns, Date and Dividend. The dataframe should only have the rows that represent the divident day and amount."
      ],
      "metadata": {
        "id": "_ar_id_GFvQH"
      },
      "id": "_ar_id_GFvQH"
    },
    {
      "cell_type": "code",
      "execution_count": null,
      "id": "d00c8d84",
      "metadata": {
        "id": "d00c8d84",
        "outputId": "f5f98e18-69f6-4782-d7d8-c4fa048d7e92"
      },
      "outputs": [
        {
          "data": {
            "text/html": [
              "'/Users/maryanastef/RProgrammingHW'"
            ],
            "text/latex": [
              "'/Users/maryanastef/RProgrammingHW'"
            ],
            "text/markdown": [
              "'/Users/maryanastef/RProgrammingHW'"
            ],
            "text/plain": [
              "[1] \"/Users/maryanastef/RProgrammingHW\""
            ]
          },
          "metadata": {},
          "output_type": "display_data"
        },
        {
          "name": "stderr",
          "output_type": "stream",
          "text": [
            "Updating HTML index of packages in '.Library'\n",
            "Making 'packages.html' ... done\n",
            "\n",
            "Attaching package: ‘dplyr’\n",
            "\n",
            "The following objects are masked from ‘package:stats’:\n",
            "\n",
            "    filter, lag\n",
            "\n",
            "The following objects are masked from ‘package:base’:\n",
            "\n",
            "    intersect, setdiff, setequal, union\n",
            "\n"
          ]
        }
      ],
      "source": [
        "getwd()\n",
        "\n",
        "install.packages(\"dplyr\")\n",
        "library(dplyr)"
      ]
    },
    {
      "cell_type": "code",
      "execution_count": null,
      "id": "c5b680e8",
      "metadata": {
        "id": "c5b680e8",
        "outputId": "b8ba7de1-4b06-4e3f-bed7-d10432a86bdd"
      },
      "outputs": [
        {
          "data": {
            "text/html": [
              "<table>\n",
              "<thead><tr><th scope=col>Date</th><th scope=col>Open</th><th scope=col>High</th><th scope=col>Low</th><th scope=col>Close</th><th scope=col>Adj.Close</th><th scope=col>Volume</th></tr></thead>\n",
              "<tbody>\n",
              "\t<tr><td>2018-01-02</td><td>154.50    </td><td>154.81    </td><td>153.54    </td><td>154.25    </td><td>129.0939  </td><td>4202500   </td></tr>\n",
              "\t<tr><td>2018-01-03</td><td>157.34    </td><td>159.81    </td><td>156.33    </td><td>158.49    </td><td>132.6424  </td><td>9441600   </td></tr>\n",
              "\t<tr><td>2018-01-04</td><td>159.65    </td><td>162.32    </td><td>159.37    </td><td>161.70    </td><td>135.3289  </td><td>7556200   </td></tr>\n",
              "\t<tr><td>2018-01-05</td><td>162.44    </td><td>162.90    </td><td>161.10    </td><td>162.49    </td><td>135.9901  </td><td>5195800   </td></tr>\n",
              "\t<tr><td>2018-01-08</td><td>162.66    </td><td>163.91    </td><td>161.70    </td><td>163.47    </td><td>136.8102  </td><td>5237500   </td></tr>\n",
              "\t<tr><td>2018-01-09</td><td>163.90    </td><td>164.53    </td><td>163.06    </td><td>163.83    </td><td>137.1115  </td><td>4341800   </td></tr>\n",
              "</tbody>\n",
              "</table>\n"
            ],
            "text/latex": [
              "\\begin{tabular}{r|lllllll}\n",
              " Date & Open & High & Low & Close & Adj.Close & Volume\\\\\n",
              "\\hline\n",
              "\t 2018-01-02 & 154.50     & 154.81     & 153.54     & 154.25     & 129.0939   & 4202500   \\\\\n",
              "\t 2018-01-03 & 157.34     & 159.81     & 156.33     & 158.49     & 132.6424   & 9441600   \\\\\n",
              "\t 2018-01-04 & 159.65     & 162.32     & 159.37     & 161.70     & 135.3289   & 7556200   \\\\\n",
              "\t 2018-01-05 & 162.44     & 162.90     & 161.10     & 162.49     & 135.9901   & 5195800   \\\\\n",
              "\t 2018-01-08 & 162.66     & 163.91     & 161.70     & 163.47     & 136.8102   & 5237500   \\\\\n",
              "\t 2018-01-09 & 163.90     & 164.53     & 163.06     & 163.83     & 137.1115   & 4341800   \\\\\n",
              "\\end{tabular}\n"
            ],
            "text/markdown": [
              "\n",
              "| Date | Open | High | Low | Close | Adj.Close | Volume |\n",
              "|---|---|---|---|---|---|---|\n",
              "| 2018-01-02 | 154.50     | 154.81     | 153.54     | 154.25     | 129.0939   | 4202500    |\n",
              "| 2018-01-03 | 157.34     | 159.81     | 156.33     | 158.49     | 132.6424   | 9441600    |\n",
              "| 2018-01-04 | 159.65     | 162.32     | 159.37     | 161.70     | 135.3289   | 7556200    |\n",
              "| 2018-01-05 | 162.44     | 162.90     | 161.10     | 162.49     | 135.9901   | 5195800    |\n",
              "| 2018-01-08 | 162.66     | 163.91     | 161.70     | 163.47     | 136.8102   | 5237500    |\n",
              "| 2018-01-09 | 163.90     | 164.53     | 163.06     | 163.83     | 137.1115   | 4341800    |\n",
              "\n"
            ],
            "text/plain": [
              "  Date       Open   High   Low    Close  Adj.Close Volume \n",
              "1 2018-01-02 154.50 154.81 153.54 154.25 129.0939  4202500\n",
              "2 2018-01-03 157.34 159.81 156.33 158.49 132.6424  9441600\n",
              "3 2018-01-04 159.65 162.32 159.37 161.70 135.3289  7556200\n",
              "4 2018-01-05 162.44 162.90 161.10 162.49 135.9901  5195800\n",
              "5 2018-01-08 162.66 163.91 161.70 163.47 136.8102  5237500\n",
              "6 2018-01-09 163.90 164.53 163.06 163.83 137.1115  4341800"
            ]
          },
          "metadata": {},
          "output_type": "display_data"
        }
      ],
      "source": [
        "#IBM DATA\n",
        "ibm=read.csv(file=\"/Users/maryanastef/RProgrammingHW/IBM1.csv\", header=TRUE)\n",
        "head(ibm)"
      ]
    },
    {
      "cell_type": "code",
      "execution_count": null,
      "id": "3e49d886",
      "metadata": {
        "id": "3e49d886",
        "outputId": "83886e56-812a-43e6-dfa4-781601f063f9"
      },
      "outputs": [
        {
          "data": {
            "text/html": [
              "<table>\n",
              "<thead><tr><th scope=col>Date</th><th scope=col>Divident</th></tr></thead>\n",
              "<tbody>\n",
              "\t<tr><td>2018-02-08</td><td>1.500034  </td></tr>\n",
              "\t<tr><td>2018-05-09</td><td>1.569984  </td></tr>\n",
              "\t<tr><td>2018-08-09</td><td>1.570018  </td></tr>\n",
              "\t<tr><td>2018-11-08</td><td>1.570005  </td></tr>\n",
              "</tbody>\n",
              "</table>\n"
            ],
            "text/latex": [
              "\\begin{tabular}{r|ll}\n",
              " Date & Divident\\\\\n",
              "\\hline\n",
              "\t 2018-02-08 & 1.500034  \\\\\n",
              "\t 2018-05-09 & 1.569984  \\\\\n",
              "\t 2018-08-09 & 1.570018  \\\\\n",
              "\t 2018-11-08 & 1.570005  \\\\\n",
              "\\end{tabular}\n"
            ],
            "text/markdown": [
              "\n",
              "| Date | Divident |\n",
              "|---|---|\n",
              "| 2018-02-08 | 1.500034   |\n",
              "| 2018-05-09 | 1.569984   |\n",
              "| 2018-08-09 | 1.570018   |\n",
              "| 2018-11-08 | 1.570005   |\n",
              "\n"
            ],
            "text/plain": [
              "  Date       Divident\n",
              "1 2018-02-08 1.500034\n",
              "2 2018-05-09 1.569984\n",
              "3 2018-08-09 1.570018\n",
              "4 2018-11-08 1.570005"
            ]
          },
          "metadata": {},
          "output_type": "display_data"
        }
      ],
      "source": [
        "#Divident of IBM\n",
        "IBM_Divident=ibm %>% mutate(RatioDiff=(lag(Close)/Close)-(lag(Adj.Close)/Adj.Close),Divident=RatioDiff*Close)%>% select(Date,Divident) %>% filter(abs(Divident)>0.01)\n",
        "\n",
        "IBM_Divident"
      ]
    },
    {
      "cell_type": "code",
      "execution_count": null,
      "id": "401f0f7c",
      "metadata": {
        "id": "401f0f7c",
        "outputId": "4eb2f49f-7771-4691-ecbe-642453ce1b47"
      },
      "outputs": [
        {
          "data": {
            "text/html": [
              "<table>\n",
              "<thead><tr><th scope=col>Date</th><th scope=col>Open</th><th scope=col>High</th><th scope=col>Low</th><th scope=col>Close</th><th scope=col>Adj.Close</th><th scope=col>Volume</th></tr></thead>\n",
              "<tbody>\n",
              "\t<tr><td>2018-01-02</td><td>86.13     </td><td>86.31     </td><td>85.50     </td><td>85.95     </td><td>81.84829  </td><td>22483800  </td></tr>\n",
              "\t<tr><td>2018-01-03</td><td>86.06     </td><td>86.51     </td><td>85.97     </td><td>86.35     </td><td>82.22920  </td><td>26061400  </td></tr>\n",
              "\t<tr><td>2018-01-04</td><td>86.59     </td><td>87.66     </td><td>86.57     </td><td>87.11     </td><td>82.95293  </td><td>21912000  </td></tr>\n",
              "\t<tr><td>2018-01-05</td><td>87.66     </td><td>88.41     </td><td>87.43     </td><td>88.19     </td><td>83.98138  </td><td>23407100  </td></tr>\n",
              "\t<tr><td>2018-01-08</td><td>88.20     </td><td>88.58     </td><td>87.60     </td><td>88.28     </td><td>84.06710  </td><td>22113000  </td></tr>\n",
              "\t<tr><td>2018-01-09</td><td>88.65     </td><td>88.73     </td><td>87.86     </td><td>88.22     </td><td>84.00996  </td><td>19484300  </td></tr>\n",
              "</tbody>\n",
              "</table>\n"
            ],
            "text/latex": [
              "\\begin{tabular}{r|lllllll}\n",
              " Date & Open & High & Low & Close & Adj.Close & Volume\\\\\n",
              "\\hline\n",
              "\t 2018-01-02 & 86.13      & 86.31      & 85.50      & 85.95      & 81.84829   & 22483800  \\\\\n",
              "\t 2018-01-03 & 86.06      & 86.51      & 85.97      & 86.35      & 82.22920   & 26061400  \\\\\n",
              "\t 2018-01-04 & 86.59      & 87.66      & 86.57      & 87.11      & 82.95293   & 21912000  \\\\\n",
              "\t 2018-01-05 & 87.66      & 88.41      & 87.43      & 88.19      & 83.98138   & 23407100  \\\\\n",
              "\t 2018-01-08 & 88.20      & 88.58      & 87.60      & 88.28      & 84.06710   & 22113000  \\\\\n",
              "\t 2018-01-09 & 88.65      & 88.73      & 87.86      & 88.22      & 84.00996   & 19484300  \\\\\n",
              "\\end{tabular}\n"
            ],
            "text/markdown": [
              "\n",
              "| Date | Open | High | Low | Close | Adj.Close | Volume |\n",
              "|---|---|---|---|---|---|---|\n",
              "| 2018-01-02 | 86.13      | 86.31      | 85.50      | 85.95      | 81.84829   | 22483800   |\n",
              "| 2018-01-03 | 86.06      | 86.51      | 85.97      | 86.35      | 82.22920   | 26061400   |\n",
              "| 2018-01-04 | 86.59      | 87.66      | 86.57      | 87.11      | 82.95293   | 21912000   |\n",
              "| 2018-01-05 | 87.66      | 88.41      | 87.43      | 88.19      | 83.98138   | 23407100   |\n",
              "| 2018-01-08 | 88.20      | 88.58      | 87.60      | 88.28      | 84.06710   | 22113000   |\n",
              "| 2018-01-09 | 88.65      | 88.73      | 87.86      | 88.22      | 84.00996   | 19484300   |\n",
              "\n"
            ],
            "text/plain": [
              "  Date       Open  High  Low   Close Adj.Close Volume  \n",
              "1 2018-01-02 86.13 86.31 85.50 85.95 81.84829  22483800\n",
              "2 2018-01-03 86.06 86.51 85.97 86.35 82.22920  26061400\n",
              "3 2018-01-04 86.59 87.66 86.57 87.11 82.95293  21912000\n",
              "4 2018-01-05 87.66 88.41 87.43 88.19 83.98138  23407100\n",
              "5 2018-01-08 88.20 88.58 87.60 88.28 84.06710  22113000\n",
              "6 2018-01-09 88.65 88.73 87.86 88.22 84.00996  19484300"
            ]
          },
          "metadata": {},
          "output_type": "display_data"
        }
      ],
      "source": [
        "#MICROSOFT DATA\n",
        "msft=read.csv(file=\"/Users/maryanastef/RProgrammingHW/MSFT.csv\", header=TRUE)\n",
        "head(msft)"
      ]
    },
    {
      "cell_type": "code",
      "execution_count": null,
      "id": "3347c74c",
      "metadata": {
        "id": "3347c74c",
        "outputId": "c6792483-f193-40de-fdd1-454f7f2ff7dc"
      },
      "outputs": [
        {
          "data": {
            "text/html": [
              "<table>\n",
              "<thead><tr><th scope=col>Date</th><th scope=col>Divident</th></tr></thead>\n",
              "<tbody>\n",
              "\t<tr><td>2018-02-14</td><td>0.4199991 </td></tr>\n",
              "\t<tr><td>2018-05-16</td><td>0.4200162 </td></tr>\n",
              "\t<tr><td>2018-08-15</td><td>0.4200147 </td></tr>\n",
              "\t<tr><td>2018-11-14</td><td>0.4600116 </td></tr>\n",
              "</tbody>\n",
              "</table>\n"
            ],
            "text/latex": [
              "\\begin{tabular}{r|ll}\n",
              " Date & Divident\\\\\n",
              "\\hline\n",
              "\t 2018-02-14 & 0.4199991 \\\\\n",
              "\t 2018-05-16 & 0.4200162 \\\\\n",
              "\t 2018-08-15 & 0.4200147 \\\\\n",
              "\t 2018-11-14 & 0.4600116 \\\\\n",
              "\\end{tabular}\n"
            ],
            "text/markdown": [
              "\n",
              "| Date | Divident |\n",
              "|---|---|\n",
              "| 2018-02-14 | 0.4199991  |\n",
              "| 2018-05-16 | 0.4200162  |\n",
              "| 2018-08-15 | 0.4200147  |\n",
              "| 2018-11-14 | 0.4600116  |\n",
              "\n"
            ],
            "text/plain": [
              "  Date       Divident \n",
              "1 2018-02-14 0.4199991\n",
              "2 2018-05-16 0.4200162\n",
              "3 2018-08-15 0.4200147\n",
              "4 2018-11-14 0.4600116"
            ]
          },
          "metadata": {},
          "output_type": "display_data"
        }
      ],
      "source": [
        "#Divident of Microscoft\n",
        "MSFT_Divident=msft %>% mutate(RatioDiff=(lag(Close)/Close)-(lag(Adj.Close)/Adj.Close),Divident=RatioDiff*Close)%>% select(Date,Divident) %>% filter(abs(Divident)>0.01)\n",
        "\n",
        "MSFT_Divident"
      ]
    },
    {
      "cell_type": "code",
      "execution_count": null,
      "id": "08d86ee4",
      "metadata": {
        "id": "08d86ee4",
        "outputId": "b8b631df-4eef-42a1-d695-8438aab511b9"
      },
      "outputs": [
        {
          "data": {
            "text/html": [
              "<table>\n",
              "<thead><tr><th scope=col>Date</th><th scope=col>Open</th><th scope=col>High</th><th scope=col>Low</th><th scope=col>Close</th><th scope=col>Adj.Close</th><th scope=col>Volume</th></tr></thead>\n",
              "<tbody>\n",
              "\t<tr><td>2018-01-02</td><td>1048.34   </td><td>1066.94   </td><td>1045.230  </td><td>1065.00   </td><td>1065.00   </td><td>1237600   </td></tr>\n",
              "\t<tr><td>2018-01-03</td><td>1064.31   </td><td>1086.29   </td><td>1063.210  </td><td>1082.48   </td><td>1082.48   </td><td>1430200   </td></tr>\n",
              "\t<tr><td>2018-01-04</td><td>1088.00   </td><td>1093.57   </td><td>1084.002  </td><td>1086.40   </td><td>1086.40   </td><td>1004600   </td></tr>\n",
              "\t<tr><td>2018-01-05</td><td>1094.00   </td><td>1104.25   </td><td>1092.000  </td><td>1102.23   </td><td>1102.23   </td><td>1279100   </td></tr>\n",
              "\t<tr><td>2018-01-08</td><td>1102.23   </td><td>1111.27   </td><td>1101.620  </td><td>1106.94   </td><td>1106.94   </td><td>1047600   </td></tr>\n",
              "\t<tr><td>2018-01-09</td><td>1109.40   </td><td>1110.57   </td><td>1101.231  </td><td>1106.26   </td><td>1106.26   </td><td> 902500   </td></tr>\n",
              "</tbody>\n",
              "</table>\n"
            ],
            "text/latex": [
              "\\begin{tabular}{r|lllllll}\n",
              " Date & Open & High & Low & Close & Adj.Close & Volume\\\\\n",
              "\\hline\n",
              "\t 2018-01-02 & 1048.34    & 1066.94    & 1045.230   & 1065.00    & 1065.00    & 1237600   \\\\\n",
              "\t 2018-01-03 & 1064.31    & 1086.29    & 1063.210   & 1082.48    & 1082.48    & 1430200   \\\\\n",
              "\t 2018-01-04 & 1088.00    & 1093.57    & 1084.002   & 1086.40    & 1086.40    & 1004600   \\\\\n",
              "\t 2018-01-05 & 1094.00    & 1104.25    & 1092.000   & 1102.23    & 1102.23    & 1279100   \\\\\n",
              "\t 2018-01-08 & 1102.23    & 1111.27    & 1101.620   & 1106.94    & 1106.94    & 1047600   \\\\\n",
              "\t 2018-01-09 & 1109.40    & 1110.57    & 1101.231   & 1106.26    & 1106.26    &  902500   \\\\\n",
              "\\end{tabular}\n"
            ],
            "text/markdown": [
              "\n",
              "| Date | Open | High | Low | Close | Adj.Close | Volume |\n",
              "|---|---|---|---|---|---|---|\n",
              "| 2018-01-02 | 1048.34    | 1066.94    | 1045.230   | 1065.00    | 1065.00    | 1237600    |\n",
              "| 2018-01-03 | 1064.31    | 1086.29    | 1063.210   | 1082.48    | 1082.48    | 1430200    |\n",
              "| 2018-01-04 | 1088.00    | 1093.57    | 1084.002   | 1086.40    | 1086.40    | 1004600    |\n",
              "| 2018-01-05 | 1094.00    | 1104.25    | 1092.000   | 1102.23    | 1102.23    | 1279100    |\n",
              "| 2018-01-08 | 1102.23    | 1111.27    | 1101.620   | 1106.94    | 1106.94    | 1047600    |\n",
              "| 2018-01-09 | 1109.40    | 1110.57    | 1101.231   | 1106.26    | 1106.26    |  902500    |\n",
              "\n"
            ],
            "text/plain": [
              "  Date       Open    High    Low      Close   Adj.Close Volume \n",
              "1 2018-01-02 1048.34 1066.94 1045.230 1065.00 1065.00   1237600\n",
              "2 2018-01-03 1064.31 1086.29 1063.210 1082.48 1082.48   1430200\n",
              "3 2018-01-04 1088.00 1093.57 1084.002 1086.40 1086.40   1004600\n",
              "4 2018-01-05 1094.00 1104.25 1092.000 1102.23 1102.23   1279100\n",
              "5 2018-01-08 1102.23 1111.27 1101.620 1106.94 1106.94   1047600\n",
              "6 2018-01-09 1109.40 1110.57 1101.231 1106.26 1106.26    902500"
            ]
          },
          "metadata": {},
          "output_type": "display_data"
        }
      ],
      "source": [
        "#GOOGLE DATA\n",
        "\n",
        "google=read.csv(file=\"/Users/maryanastef/RProgrammingHW/GOOG.csv\", header=TRUE)\n",
        "head(google)"
      ]
    },
    {
      "cell_type": "code",
      "execution_count": null,
      "id": "d8c39424",
      "metadata": {
        "id": "d8c39424",
        "outputId": "36dd9e47-cede-473f-d945-ed6edc98a0d1"
      },
      "outputs": [
        {
          "data": {
            "text/html": [
              "<table>\n",
              "<thead><tr><th scope=col>Date</th><th scope=col>Divident</th></tr></thead>\n",
              "<tbody>\n",
              "</tbody>\n",
              "</table>\n"
            ],
            "text/latex": [
              "\\begin{tabular}{r|ll}\n",
              " Date & Divident\\\\\n",
              "\\hline\n",
              "\\end{tabular}\n"
            ],
            "text/markdown": [
              "\n",
              "| Date | Divident |\n",
              "|---|---|\n",
              "\n"
            ],
            "text/plain": [
              "     Date Divident"
            ]
          },
          "metadata": {},
          "output_type": "display_data"
        }
      ],
      "source": [
        "#Divident of Google\n",
        "\n",
        "GOOG_Divident=google %>% mutate(RatioDiff=(lag(Close)/Close)-(lag(Adj.Close)/Adj.Close),Divident=RatioDiff*Close)%>% select(Date,Divident) %>% filter(abs(Divident)>0.01)\n",
        "\n",
        "GOOG_Divident"
      ]
    },
    {
      "cell_type": "code",
      "execution_count": null,
      "id": "e2f9eb6a",
      "metadata": {
        "id": "e2f9eb6a",
        "outputId": "5c4e9e8d-83c9-42c2-fa58-4fe70e154c08"
      },
      "outputs": [
        {
          "data": {
            "text/html": [
              "<table>\n",
              "<thead><tr><th scope=col>Date</th><th scope=col>Open</th><th scope=col>High</th><th scope=col>Low</th><th scope=col>Close</th><th scope=col>Adj.Close</th><th scope=col>Volume</th></tr></thead>\n",
              "<tbody>\n",
              "\t<tr><td>2018-01-02</td><td>42.5400   </td><td>43.0750   </td><td>42.3150   </td><td>43.0650   </td><td>41.24827  </td><td>102223600 </td></tr>\n",
              "\t<tr><td>2018-01-03</td><td>43.1325   </td><td>43.6375   </td><td>42.9900   </td><td>43.0575   </td><td>41.24109  </td><td>118071600 </td></tr>\n",
              "\t<tr><td>2018-01-04</td><td>43.1350   </td><td>43.3675   </td><td>43.0200   </td><td>43.2575   </td><td>41.43266  </td><td> 89738400 </td></tr>\n",
              "\t<tr><td>2018-01-05</td><td>43.3600   </td><td>43.8425   </td><td>43.2625   </td><td>43.7500   </td><td>41.90438  </td><td> 94640000 </td></tr>\n",
              "\t<tr><td>2018-01-08</td><td>43.5875   </td><td>43.9025   </td><td>43.4825   </td><td>43.5875   </td><td>41.74874  </td><td> 82271200 </td></tr>\n",
              "\t<tr><td>2018-01-09</td><td>43.6375   </td><td>43.7650   </td><td>43.3525   </td><td>43.5825   </td><td>41.74395  </td><td> 86336000 </td></tr>\n",
              "</tbody>\n",
              "</table>\n"
            ],
            "text/latex": [
              "\\begin{tabular}{r|lllllll}\n",
              " Date & Open & High & Low & Close & Adj.Close & Volume\\\\\n",
              "\\hline\n",
              "\t 2018-01-02 & 42.5400    & 43.0750    & 42.3150    & 43.0650    & 41.24827   & 102223600 \\\\\n",
              "\t 2018-01-03 & 43.1325    & 43.6375    & 42.9900    & 43.0575    & 41.24109   & 118071600 \\\\\n",
              "\t 2018-01-04 & 43.1350    & 43.3675    & 43.0200    & 43.2575    & 41.43266   &  89738400 \\\\\n",
              "\t 2018-01-05 & 43.3600    & 43.8425    & 43.2625    & 43.7500    & 41.90438   &  94640000 \\\\\n",
              "\t 2018-01-08 & 43.5875    & 43.9025    & 43.4825    & 43.5875    & 41.74874   &  82271200 \\\\\n",
              "\t 2018-01-09 & 43.6375    & 43.7650    & 43.3525    & 43.5825    & 41.74395   &  86336000 \\\\\n",
              "\\end{tabular}\n"
            ],
            "text/markdown": [
              "\n",
              "| Date | Open | High | Low | Close | Adj.Close | Volume |\n",
              "|---|---|---|---|---|---|---|\n",
              "| 2018-01-02 | 42.5400    | 43.0750    | 42.3150    | 43.0650    | 41.24827   | 102223600  |\n",
              "| 2018-01-03 | 43.1325    | 43.6375    | 42.9900    | 43.0575    | 41.24109   | 118071600  |\n",
              "| 2018-01-04 | 43.1350    | 43.3675    | 43.0200    | 43.2575    | 41.43266   |  89738400  |\n",
              "| 2018-01-05 | 43.3600    | 43.8425    | 43.2625    | 43.7500    | 41.90438   |  94640000  |\n",
              "| 2018-01-08 | 43.5875    | 43.9025    | 43.4825    | 43.5875    | 41.74874   |  82271200  |\n",
              "| 2018-01-09 | 43.6375    | 43.7650    | 43.3525    | 43.5825    | 41.74395   |  86336000  |\n",
              "\n"
            ],
            "text/plain": [
              "  Date       Open    High    Low     Close   Adj.Close Volume   \n",
              "1 2018-01-02 42.5400 43.0750 42.3150 43.0650 41.24827  102223600\n",
              "2 2018-01-03 43.1325 43.6375 42.9900 43.0575 41.24109  118071600\n",
              "3 2018-01-04 43.1350 43.3675 43.0200 43.2575 41.43266   89738400\n",
              "4 2018-01-05 43.3600 43.8425 43.2625 43.7500 41.90438   94640000\n",
              "5 2018-01-08 43.5875 43.9025 43.4825 43.5875 41.74874   82271200\n",
              "6 2018-01-09 43.6375 43.7650 43.3525 43.5825 41.74395   86336000"
            ]
          },
          "metadata": {},
          "output_type": "display_data"
        }
      ],
      "source": [
        "#APPLE DATA\n",
        "\n",
        "apple=read.csv(file=\"/Users/maryanastef/RProgrammingHW/AAPL.csv\", header=TRUE)\n",
        "head(apple)"
      ]
    },
    {
      "cell_type": "code",
      "execution_count": null,
      "id": "73310831",
      "metadata": {
        "id": "73310831",
        "outputId": "c6723a31-566f-46f6-de2f-7b1cad3ccf45"
      },
      "outputs": [
        {
          "data": {
            "text/html": [
              "<table>\n",
              "<thead><tr><th scope=col>Date</th><th scope=col>Divident</th></tr></thead>\n",
              "<tbody>\n",
              "\t<tr><td>2018-02-09</td><td>0.1574955 </td></tr>\n",
              "\t<tr><td>2018-05-11</td><td>0.1825011 </td></tr>\n",
              "\t<tr><td>2018-08-10</td><td>0.1824980 </td></tr>\n",
              "\t<tr><td>2018-11-08</td><td>0.1824985 </td></tr>\n",
              "</tbody>\n",
              "</table>\n"
            ],
            "text/latex": [
              "\\begin{tabular}{r|ll}\n",
              " Date & Divident\\\\\n",
              "\\hline\n",
              "\t 2018-02-09 & 0.1574955 \\\\\n",
              "\t 2018-05-11 & 0.1825011 \\\\\n",
              "\t 2018-08-10 & 0.1824980 \\\\\n",
              "\t 2018-11-08 & 0.1824985 \\\\\n",
              "\\end{tabular}\n"
            ],
            "text/markdown": [
              "\n",
              "| Date | Divident |\n",
              "|---|---|\n",
              "| 2018-02-09 | 0.1574955  |\n",
              "| 2018-05-11 | 0.1825011  |\n",
              "| 2018-08-10 | 0.1824980  |\n",
              "| 2018-11-08 | 0.1824985  |\n",
              "\n"
            ],
            "text/plain": [
              "  Date       Divident \n",
              "1 2018-02-09 0.1574955\n",
              "2 2018-05-11 0.1825011\n",
              "3 2018-08-10 0.1824980\n",
              "4 2018-11-08 0.1824985"
            ]
          },
          "metadata": {},
          "output_type": "display_data"
        }
      ],
      "source": [
        "#Divident of Apple\n",
        "\n",
        "APPLE_Divident=apple %>% mutate(RatioDiff=(lag(Close)/Close)-(lag(Adj.Close)/Adj.Close),Divident=RatioDiff*Close)%>% select(Date,Divident) %>% filter(abs(Divident)>0.01)\n",
        "\n",
        "APPLE_Divident"
      ]
    },
    {
      "cell_type": "code",
      "execution_count": null,
      "id": "96bf79f9",
      "metadata": {
        "id": "96bf79f9",
        "outputId": "10f4ac31-8911-4b8b-d0c3-ffcd0f922559"
      },
      "outputs": [
        {
          "data": {
            "text/html": [
              "<table>\n",
              "<thead><tr><th scope=col>Date</th><th scope=col>Open</th><th scope=col>High</th><th scope=col>Low</th><th scope=col>Close</th><th scope=col>Adj.Close</th><th scope=col>Volume</th></tr></thead>\n",
              "<tbody>\n",
              "\t<tr><td>2018-01-02</td><td>1172.00   </td><td>1190.00   </td><td>1170.51   </td><td>1189.01   </td><td>1189.01   </td><td>2694500   </td></tr>\n",
              "\t<tr><td>2018-01-03</td><td>1188.30   </td><td>1205.49   </td><td>1188.30   </td><td>1204.20   </td><td>1204.20   </td><td>3108800   </td></tr>\n",
              "\t<tr><td>2018-01-04</td><td>1205.00   </td><td>1215.87   </td><td>1204.66   </td><td>1209.59   </td><td>1209.59   </td><td>3022100   </td></tr>\n",
              "\t<tr><td>2018-01-05</td><td>1217.51   </td><td>1229.14   </td><td>1210.00   </td><td>1229.14   </td><td>1229.14   </td><td>3544700   </td></tr>\n",
              "\t<tr><td>2018-01-08</td><td>1236.00   </td><td>1253.08   </td><td>1232.03   </td><td>1246.87   </td><td>1246.87   </td><td>4279500   </td></tr>\n",
              "\t<tr><td>2018-01-09</td><td>1256.90   </td><td>1259.33   </td><td>1241.76   </td><td>1252.70   </td><td>1252.70   </td><td>3661300   </td></tr>\n",
              "</tbody>\n",
              "</table>\n"
            ],
            "text/latex": [
              "\\begin{tabular}{r|lllllll}\n",
              " Date & Open & High & Low & Close & Adj.Close & Volume\\\\\n",
              "\\hline\n",
              "\t 2018-01-02 & 1172.00    & 1190.00    & 1170.51    & 1189.01    & 1189.01    & 2694500   \\\\\n",
              "\t 2018-01-03 & 1188.30    & 1205.49    & 1188.30    & 1204.20    & 1204.20    & 3108800   \\\\\n",
              "\t 2018-01-04 & 1205.00    & 1215.87    & 1204.66    & 1209.59    & 1209.59    & 3022100   \\\\\n",
              "\t 2018-01-05 & 1217.51    & 1229.14    & 1210.00    & 1229.14    & 1229.14    & 3544700   \\\\\n",
              "\t 2018-01-08 & 1236.00    & 1253.08    & 1232.03    & 1246.87    & 1246.87    & 4279500   \\\\\n",
              "\t 2018-01-09 & 1256.90    & 1259.33    & 1241.76    & 1252.70    & 1252.70    & 3661300   \\\\\n",
              "\\end{tabular}\n"
            ],
            "text/markdown": [
              "\n",
              "| Date | Open | High | Low | Close | Adj.Close | Volume |\n",
              "|---|---|---|---|---|---|---|\n",
              "| 2018-01-02 | 1172.00    | 1190.00    | 1170.51    | 1189.01    | 1189.01    | 2694500    |\n",
              "| 2018-01-03 | 1188.30    | 1205.49    | 1188.30    | 1204.20    | 1204.20    | 3108800    |\n",
              "| 2018-01-04 | 1205.00    | 1215.87    | 1204.66    | 1209.59    | 1209.59    | 3022100    |\n",
              "| 2018-01-05 | 1217.51    | 1229.14    | 1210.00    | 1229.14    | 1229.14    | 3544700    |\n",
              "| 2018-01-08 | 1236.00    | 1253.08    | 1232.03    | 1246.87    | 1246.87    | 4279500    |\n",
              "| 2018-01-09 | 1256.90    | 1259.33    | 1241.76    | 1252.70    | 1252.70    | 3661300    |\n",
              "\n"
            ],
            "text/plain": [
              "  Date       Open    High    Low     Close   Adj.Close Volume \n",
              "1 2018-01-02 1172.00 1190.00 1170.51 1189.01 1189.01   2694500\n",
              "2 2018-01-03 1188.30 1205.49 1188.30 1204.20 1204.20   3108800\n",
              "3 2018-01-04 1205.00 1215.87 1204.66 1209.59 1209.59   3022100\n",
              "4 2018-01-05 1217.51 1229.14 1210.00 1229.14 1229.14   3544700\n",
              "5 2018-01-08 1236.00 1253.08 1232.03 1246.87 1246.87   4279500\n",
              "6 2018-01-09 1256.90 1259.33 1241.76 1252.70 1252.70   3661300"
            ]
          },
          "metadata": {},
          "output_type": "display_data"
        }
      ],
      "source": [
        "#AMAZON DATA\n",
        "\n",
        "amazon=read.csv(file=\"/Users/maryanastef/RProgrammingHW/AMZN.csv\", header=TRUE)\n",
        "head(amazon)"
      ]
    },
    {
      "cell_type": "code",
      "execution_count": null,
      "id": "92d82c7e",
      "metadata": {
        "id": "92d82c7e",
        "outputId": "c52ccf2c-9aee-416b-9ba3-56731c70b5c5"
      },
      "outputs": [
        {
          "data": {
            "text/html": [
              "<table>\n",
              "<thead><tr><th scope=col>Date</th><th scope=col>Divident</th></tr></thead>\n",
              "<tbody>\n",
              "</tbody>\n",
              "</table>\n"
            ],
            "text/latex": [
              "\\begin{tabular}{r|ll}\n",
              " Date & Divident\\\\\n",
              "\\hline\n",
              "\\end{tabular}\n"
            ],
            "text/markdown": [
              "\n",
              "| Date | Divident |\n",
              "|---|---|\n",
              "\n"
            ],
            "text/plain": [
              "     Date Divident"
            ]
          },
          "metadata": {},
          "output_type": "display_data"
        }
      ],
      "source": [
        "#Divident of AMAZON\n",
        "\n",
        "AMZN_Divident=amazon %>% mutate(RatioDiff=(lag(Close)/Close)-(lag(Adj.Close)/Adj.Close),Divident=RatioDiff*Close)%>% select(Date,Divident) %>% filter(abs(Divident)>0.01)\n",
        "\n",
        "AMZN_Divident"
      ]
    },
    {
      "cell_type": "code",
      "execution_count": null,
      "id": "f61a7994",
      "metadata": {
        "id": "f61a7994",
        "outputId": "1afa3ef3-7e16-4254-c132-2873c60813e8"
      },
      "outputs": [
        {
          "data": {
            "text/html": [
              "<table>\n",
              "<thead><tr><th scope=col>Date</th><th scope=col>Open</th><th scope=col>High</th><th scope=col>Low</th><th scope=col>Close</th><th scope=col>Adj.Close</th><th scope=col>Volume</th></tr></thead>\n",
              "<tbody>\n",
              "\t<tr><td>2018-01-02</td><td>177.68    </td><td>181.58    </td><td>177.55    </td><td>181.42    </td><td>181.42    </td><td>18151900  </td></tr>\n",
              "\t<tr><td>2018-01-03</td><td>181.88    </td><td>184.78    </td><td>181.33    </td><td>184.67    </td><td>184.67    </td><td>16886600  </td></tr>\n",
              "\t<tr><td>2018-01-04</td><td>184.90    </td><td>186.21    </td><td>184.10    </td><td>184.33    </td><td>184.33    </td><td>13880900  </td></tr>\n",
              "\t<tr><td>2018-01-05</td><td>185.59    </td><td>186.90    </td><td>184.93    </td><td>186.85    </td><td>186.85    </td><td>13574500  </td></tr>\n",
              "\t<tr><td>2018-01-08</td><td>187.20    </td><td>188.90    </td><td>186.33    </td><td>188.28    </td><td>188.28    </td><td>17994700  </td></tr>\n",
              "\t<tr><td>2018-01-09</td><td>188.70    </td><td>188.80    </td><td>187.10    </td><td>187.87    </td><td>187.87    </td><td>12393100  </td></tr>\n",
              "</tbody>\n",
              "</table>\n"
            ],
            "text/latex": [
              "\\begin{tabular}{r|lllllll}\n",
              " Date & Open & High & Low & Close & Adj.Close & Volume\\\\\n",
              "\\hline\n",
              "\t 2018-01-02 & 177.68     & 181.58     & 177.55     & 181.42     & 181.42     & 18151900  \\\\\n",
              "\t 2018-01-03 & 181.88     & 184.78     & 181.33     & 184.67     & 184.67     & 16886600  \\\\\n",
              "\t 2018-01-04 & 184.90     & 186.21     & 184.10     & 184.33     & 184.33     & 13880900  \\\\\n",
              "\t 2018-01-05 & 185.59     & 186.90     & 184.93     & 186.85     & 186.85     & 13574500  \\\\\n",
              "\t 2018-01-08 & 187.20     & 188.90     & 186.33     & 188.28     & 188.28     & 17994700  \\\\\n",
              "\t 2018-01-09 & 188.70     & 188.80     & 187.10     & 187.87     & 187.87     & 12393100  \\\\\n",
              "\\end{tabular}\n"
            ],
            "text/markdown": [
              "\n",
              "| Date | Open | High | Low | Close | Adj.Close | Volume |\n",
              "|---|---|---|---|---|---|---|\n",
              "| 2018-01-02 | 177.68     | 181.58     | 177.55     | 181.42     | 181.42     | 18151900   |\n",
              "| 2018-01-03 | 181.88     | 184.78     | 181.33     | 184.67     | 184.67     | 16886600   |\n",
              "| 2018-01-04 | 184.90     | 186.21     | 184.10     | 184.33     | 184.33     | 13880900   |\n",
              "| 2018-01-05 | 185.59     | 186.90     | 184.93     | 186.85     | 186.85     | 13574500   |\n",
              "| 2018-01-08 | 187.20     | 188.90     | 186.33     | 188.28     | 188.28     | 17994700   |\n",
              "| 2018-01-09 | 188.70     | 188.80     | 187.10     | 187.87     | 187.87     | 12393100   |\n",
              "\n"
            ],
            "text/plain": [
              "  Date       Open   High   Low    Close  Adj.Close Volume  \n",
              "1 2018-01-02 177.68 181.58 177.55 181.42 181.42    18151900\n",
              "2 2018-01-03 181.88 184.78 181.33 184.67 184.67    16886600\n",
              "3 2018-01-04 184.90 186.21 184.10 184.33 184.33    13880900\n",
              "4 2018-01-05 185.59 186.90 184.93 186.85 186.85    13574500\n",
              "5 2018-01-08 187.20 188.90 186.33 188.28 188.28    17994700\n",
              "6 2018-01-09 188.70 188.80 187.10 187.87 187.87    12393100"
            ]
          },
          "metadata": {},
          "output_type": "display_data"
        }
      ],
      "source": [
        "#FACEBOOK DATA\n",
        "fb=read.csv(file=\"/Users/maryanastef/RProgrammingHW/FB.csv\", header=TRUE)\n",
        "head(fb)"
      ]
    },
    {
      "cell_type": "code",
      "execution_count": null,
      "id": "3cbf81ef",
      "metadata": {
        "id": "3cbf81ef",
        "outputId": "e798ce0f-5cab-4e7e-ef3d-86795e2aa68a"
      },
      "outputs": [
        {
          "data": {
            "text/html": [
              "<table>\n",
              "<thead><tr><th scope=col>Date</th><th scope=col>Divident</th></tr></thead>\n",
              "<tbody>\n",
              "</tbody>\n",
              "</table>\n"
            ],
            "text/latex": [
              "\\begin{tabular}{r|ll}\n",
              " Date & Divident\\\\\n",
              "\\hline\n",
              "\\end{tabular}\n"
            ],
            "text/markdown": [
              "\n",
              "| Date | Divident |\n",
              "|---|---|\n",
              "\n"
            ],
            "text/plain": [
              "     Date Divident"
            ]
          },
          "metadata": {},
          "output_type": "display_data"
        }
      ],
      "source": [
        "#Divident of FACEBOOK\n",
        "FB_Divident=fb %>% mutate(RatioDiff=(lag(Close)/Close)-(lag(Adj.Close)/Adj.Close),Divident=RatioDiff*Close)%>% select(Date,Divident) %>% filter(abs(Divident)>0.01)\n",
        "\n",
        "FB_Divident"
      ]
    },
    {
      "cell_type": "code",
      "execution_count": null,
      "id": "aaddac0f",
      "metadata": {
        "id": "aaddac0f"
      },
      "outputs": [],
      "source": []
    }
  ],
  "metadata": {
    "kernelspec": {
      "display_name": "R",
      "language": "R",
      "name": "ir"
    },
    "language_info": {
      "codemirror_mode": "r",
      "file_extension": ".r",
      "mimetype": "text/x-r-source",
      "name": "R",
      "pygments_lexer": "r",
      "version": "3.6.1"
    },
    "colab": {
      "provenance": []
    }
  },
  "nbformat": 4,
  "nbformat_minor": 5
}