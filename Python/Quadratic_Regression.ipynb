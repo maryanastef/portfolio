{
  "nbformat": 4,
  "nbformat_minor": 0,
  "metadata": {
    "colab": {
      "provenance": []
    },
    "kernelspec": {
      "name": "python3",
      "display_name": "Python 3"
    },
    "language_info": {
      "name": "python"
    }
  },
  "cells": [
    {
      "cell_type": "markdown",
      "source": [
        "# **Finding the zeros of a quadratic function:**\n",
        "\n",
        "In this problem, I am solving a simple regression problem, where points are coming from the line  𝑦=2𝑥+1.\n",
        "\n",
        "I will: <br>\n",
        "\n",
        "> (i) Generate data points coming from a quadratic function:  𝑦=−𝑥2+3𝑥+10 , plus some noise. <br>\n",
        "\n",
        "> (ii) Modify a PyTorch model in order for it to learn a quadratic function of the form  𝑦=𝑎𝑥2+𝑏𝑥+𝑐 . <br>\n",
        "\n",
        "\n",
        "> (iii) Train my model and report what values it computes.\n",
        "\n"
      ],
      "metadata": {
        "id": "rxB1cULZ7Jmr"
      }
    },
    {
      "cell_type": "code",
      "source": [
        "import torch.optim as optim\n",
        "import torch.nn as nn\n",
        "import numpy as np\n",
        "import torch"
      ],
      "metadata": {
        "id": "qykFbLi97XKs"
      },
      "execution_count": 1,
      "outputs": []
    },
    {
      "cell_type": "code",
      "source": [
        "#(i) Generating data points coming from a quadratic function:  𝑦=−𝑥**2+3𝑥+10 , plus some noise.\n",
        "\n",
        "np.random.seed(42)\n",
        "x = np.random.rand(100, 1)\n",
        "y = -x**2 + 3 * x + 10 + .1 * np.random.randn(100, 1)"
      ],
      "metadata": {
        "id": "I8f61K0A73DJ"
      },
      "execution_count": 2,
      "outputs": []
    },
    {
      "cell_type": "code",
      "source": [
        "# Shuffling the indices\n",
        "idx = np.arange(100)\n",
        "np.random.shuffle(idx)\n",
        "\n",
        "# Using the first 80 random indices for train\n",
        "train_idx = idx[:80]\n",
        "\n",
        "# Using the remaining indices for validation\n",
        "val_idx = idx[80:]\n",
        "\n",
        "# Generating train and validation sets\n",
        "x_train, y_train = x[train_idx], y[train_idx]\n",
        "x_val, y_val = x[val_idx], y[val_idx]"
      ],
      "metadata": {
        "id": "gBz7ohfG77m2"
      },
      "execution_count": 3,
      "outputs": []
    },
    {
      "cell_type": "code",
      "source": [
        "device = 'cuda' if torch.cuda.is_available() else 'cpu'\n",
        "\n",
        "# the data points needs to be converted from numpy array to Tensor objects\n",
        "\n",
        "x_train_tensor = torch.from_numpy(x_train).float().to(device)\n",
        "y_train_tensor = torch.from_numpy(y_train).float().to(device)"
      ],
      "metadata": {
        "id": "llSXDbfb8DP9"
      },
      "execution_count": 4,
      "outputs": []
    },
    {
      "cell_type": "code",
      "source": [
        "#(ii) Modifying the PyTorch model in order for it to learn a quadratic function of the form  𝑦=𝑎𝑥**2+𝑏𝑥+𝑐 .\n",
        "\n",
        "class QuadraticRegression(nn.Module):\n",
        "    def __init__(self):\n",
        "        super().__init__()\n",
        "        # To make \"a\",\"b\" and \"c\" real parameters of the model, wrapping them with nn.Parameter\n",
        "        self.a = nn.Parameter(torch.randn(1, requires_grad=True, dtype=torch.float))\n",
        "        self.b = nn.Parameter(torch.randn(1, requires_grad=True, dtype=torch.float))\n",
        "        self.c = nn.Parameter(torch.randn(1, requires_grad=True, dtype=torch.float))\n",
        "\n",
        "    def forward(self, x):\n",
        "        # Computing the outputs / predictions based on the quadratic functions\n",
        "        return self.a * x**2 + self.b * x + self.c"
      ],
      "metadata": {
        "id": "uoNgnbZF8Gmo"
      },
      "execution_count": 5,
      "outputs": []
    },
    {
      "cell_type": "code",
      "source": [
        "#(iii) Training the model and reporting what values it computes.\n",
        "\n",
        "torch.manual_seed(42)\n",
        "\n",
        "# Creating the model and sending it to the device\n",
        "model = QuadraticRegression().to(device)\n",
        "\n",
        "#defining the learning rate\n",
        "lr = 1e-1\n",
        "n_epochs = 20000\n",
        "\n",
        "#defining loss function and optimizer\n",
        "loss_fn = nn.MSELoss(reduction='mean')\n",
        "optimizer = optim.SGD(model.parameters(), lr=lr)\n",
        "\n",
        "for epoch in range(n_epochs):\n",
        "    # This sets the model in 'training' mode.\n",
        "    model.train()\n",
        "    yhat = model(x_train_tensor)\n",
        "\n",
        "    loss = loss_fn(y_train_tensor, yhat)\n",
        "    loss.backward()\n",
        "    optimizer.step()\n",
        "    optimizer.zero_grad()"
      ],
      "metadata": {
        "id": "KKWsZ9TV8QNr"
      },
      "execution_count": 6,
      "outputs": []
    },
    {
      "cell_type": "code",
      "source": [
        "#printing the result\n",
        "\n",
        "print(model.state_dict())"
      ],
      "metadata": {
        "colab": {
          "base_uri": "https://localhost:8080/"
        },
        "id": "SBlrymqT8clO",
        "outputId": "9fd41303-d900-45b5-c5be-30999e8fef7d"
      },
      "execution_count": 7,
      "outputs": [
        {
          "output_type": "stream",
          "name": "stdout",
          "text": [
            "OrderedDict([('a', tensor([-0.8111])), ('b', tensor([2.7849])), ('c', tensor([10.0506]))])\n"
          ]
        }
      ]
    },
    {
      "cell_type": "markdown",
      "source": [
        "# **Answer:** <br>\n",
        "\n",
        "As we can see, our a = -0.811 , b = 2.7849, and c = 10.0506.\n",
        "\n",
        "<br>\n",
        "\n",
        "With rounding, these values equal to -1, 3, 10 and are the real zeroes of our quadratic function.\n",
        "\n",
        "<br>\n",
        "Graphically, the real zeros of a function are the x-intercepts of a function, where the graph of the function crosses the x-axis."
      ],
      "metadata": {
        "id": "N9TACi9a8vmF"
      }
    }
  ]
}